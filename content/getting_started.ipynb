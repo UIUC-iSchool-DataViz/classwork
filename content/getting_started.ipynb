{
  "metadata": {
    "orig_nbformat": 4,
    "language_info": {
      "codemirror_mode": {
        "name": "python",
        "version": 3
      },
      "file_extension": ".py",
      "mimetype": "text/x-python",
      "name": "python",
      "nbconvert_exporter": "python",
      "pygments_lexer": "ipython3",
      "version": "3.8"
    },
    "kernelspec": {
      "name": "python",
      "display_name": "Pyolite",
      "language": "python"
    }
  },
  "nbformat_minor": 4,
  "nbformat": 4,
  "cells": [
    {
      "cell_type": "markdown",
      "source": "# Jupyterlite and IS445\n\nWe are going to try this out, since it seems getting libraries to work elsewhere is just impossible!\n\nThis will work almost identically to what you have seen before, with one major difference: we will need to import *some* libraries in a particularly special fashion, using `micropip`.\n\n**You can copy and paste this next line to your own notebooks to get started!**",
      "metadata": {}
    },
    {
      "cell_type": "code",
      "source": "import micropip\nawait micropip.install(['bqplot==0.12.30', 'ipyleaflet==0.14.0', 'ipywidgets', 'ipympl'])",
      "metadata": {
        "trusted": true
      },
      "execution_count": null,
      "outputs": []
    },
    {
      "cell_type": "code",
      "source": "%matplotlib widget",
      "metadata": {
        "trusted": true
      },
      "execution_count": null,
      "outputs": []
    },
    {
      "cell_type": "code",
      "source": "import bqplot\nimport pandas as pd\nimport numpy as np\nimport matplotlib.pyplot as plt\nimport ipywidgets\nimport traitlets\nimport ipyleaflet",
      "metadata": {
        "trusted": true
      },
      "execution_count": null,
      "outputs": []
    },
    {
      "cell_type": "code",
      "source": "plt.plot([1,2,3,4], [5,6,7,8])",
      "metadata": {
        "trusted": true
      },
      "execution_count": null,
      "outputs": []
    }
  ]
}